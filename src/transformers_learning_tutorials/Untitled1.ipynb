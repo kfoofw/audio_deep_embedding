{
 "cells": [
  {
   "cell_type": "code",
   "execution_count": 14,
   "id": "e4e37b22-fb2f-4767-80af-d8d260e22617",
   "metadata": {},
   "outputs": [],
   "source": [
    "import torch\n",
    "import torch.nn as nn\n",
    "from torch.nn import functional as F\n",
    "\n",
    "import numpy\n",
    "import math"
   ]
  },
  {
   "cell_type": "code",
   "execution_count": 60,
   "id": "5d6f6692-7b07-4ac6-9b14-5fcf449f1116",
   "metadata": {},
   "outputs": [],
   "source": [
    "class CausalSelfAttention(nn.Module):\n",
    "\n",
    "    def __init__(self, input_dim, n_heads, head_embed, dropout_p):\n",
    "        super().__init__()\n",
    "        self.input_dim = input_dim\n",
    "        self.n_heads = n_heads\n",
    "        self.head_embed = head_embed\n",
    "        self.dropout_p = dropout_p\n",
    "        \n",
    "        self.qkv_proj = nn.Linear(input_dim, 3 * head_embed * n_heads, bias = False)\n",
    "        \n",
    "        self.output_proj = nn.Linear(head_embed * n_heads, head_embed * n_heads)\n",
    "\n",
    "        self.dropout_output = nn.Dropout(dropout_p)\n",
    "\n",
    "    def forward(self, x):\n",
    "        B, T, input_dim = x.size()\n",
    "\n",
    "        q, k, v = self.qkv_proj(x).chunk(3, dim = 2)\n",
    "        q = q.view(B, T, n_heads, head_embed).transpose(-2, -1) # B, n_heads, T, head_embed\n",
    "        k = k.view(B, T, n_heads, head_embed).transpose(-2, -1) # B, n_heads, T, head_embed\n",
    "        v = v.view(B, T, n_heads, head_embed).transpose(-2, -1) # B, n_heads, T, head_embed\n",
    "        \n",
    "        output = nn.functional.scaled_dot_product_attention(q, k, v, dropout_p = self.dropout_p, is_causal = True) # B, n_heads, T, head_embed\n",
    "        output = output.transpose(1,2).contiguous().view(B, T, n_heads * head_embed) \n",
    "\n",
    "        output = self.dropout_output(self.output_proj(output))\n",
    "\n",
    "        return output\n",
    "\n",
    "class LayerNorm(nn.Module):\n",
    "    def __init__(self, ndim, bias):\n",
    "        super().__init__()\n",
    "        self.weight = nn.Parameter(torch.ones(ndim))\n",
    "        self.bias = nn.Parameter(torch.zeros(ndim)) if bias else None\n",
    "\n",
    "    def forward(self, input):\n",
    "        return F.layer_norm(input, self.weight.shape, self.weight, self.bias, 1e-5)\n",
    "\n",
    "def new_gelu(x):\n",
    "    \"\"\"\n",
    "    Implementation of the GELU activation function currently in Google BERT repo (identical to OpenAI GPT).\n",
    "    Reference: Gaussian Error Linear Units (GELU) paper: https://arxiv.org/abs/1606.08415\n",
    "    \"\"\"\n",
    "    return 0.5 * x * (1.0 + torch.tanh(math.sqrt(2.0 / math.pi) * (x + 0.044715 * torch.pow(x, 3.0))))\n",
    "\n",
    "class MLP(nn.Module):\n",
    "\n",
    "    def __init__(self, input_dim, hidden_dim, output_dim, dropout_p):\n",
    "        super().__init__()\n",
    "        self.c_fc = nn.Linear(input_dim, hidden_dim, bias = False)\n",
    "        self.c_proj = nn.Linear(hidden_dim, output_dim, bias = False)\n",
    "        self.dropout = nn.Dropout(dropout_p)\n",
    "\n",
    "    def forward(self, x):\n",
    "        x = self.c_fc(x)\n",
    "        x = new_gelu(x)\n",
    "        x = self.c_proj(x)\n",
    "        return self.dropout(x)\n",
    "\n",
    "class Block(nn.Module):\n",
    "\n",
    "    def __init__(self, n_heads, head_embed, dropout_p):\n",
    "        super().__init__()\n",
    "        self.ln_1 = LayerNorm(n_heads * head_embed, bias = False)\n",
    "        self.attn = CausalSelfAttention(n_heads * head_embed, n_heads, head_embed, dropout_p)\n",
    "        self.ln_2 = LayerNorm(n_heads * head_embed, bias = False)\n",
    "        self.mlp = MLP(n_heads * head_embed, 4 * n_heads * head_embed, n_heads * head_embed, dropout_p)\n",
    "\n",
    "    def forward(self, x):\n",
    "        x = x + self.attn(self.ln_1(x))\n",
    "        x = x + self.mlp(self.ln_2(x))\n",
    "        return x\n",
    "\n",
    "class DecoderTransformer(nn.Module):\n",
    "\n",
    "    def __init__(self, seq_len, input_dim, n_blocks, n_heads, head_embed, dropout_p):\n",
    "        super().__init__()\n",
    "        self.input_mlp = MLP(input_dim, n_heads * head_embed, n_heads * head_embed, dropout_p)\n",
    "        self.block_layers = nn.Sequential(*[Block(n_heads, head_embed, dropout_p) for i in range(n_blocks)])\n",
    "        self.flatten = nn.Flatten(start_dim = -2) # B, T, (n_heads * head_embed) => B, (T * n_heads * head_embed)-\n",
    "        self.output_mlp = MLP(seq_len * n_heads * head_embed,  seq_len * n_heads * head_embed, input_dim, dropout_p)\n",
    "\n",
    "    def forward(self, x):\n",
    "        x = self.input_mlp(x)\n",
    "        for layer in self.block_layers:\n",
    "            x = layer(x)\n",
    "        x = self.flatten(x)\n",
    "        x = self.output_mlp(x)\n",
    "        return x"
   ]
  },
  {
   "cell_type": "code",
   "execution_count": 61,
   "id": "1fe3bc9b-a878-4521-bae7-0db9d6fb2a8b",
   "metadata": {},
   "outputs": [
    {
     "data": {
      "text/plain": [
       "torch.Size([10, 600])"
      ]
     },
     "execution_count": 61,
     "metadata": {},
     "output_type": "execute_result"
    }
   ],
   "source": [
    "a = torch.randn(10, 20,30)\n",
    "flatten = nn.Flatten(-2)\n",
    "flatten(a).size()"
   ]
  },
  {
   "cell_type": "code",
   "execution_count": 62,
   "id": "ed8edc8a-2688-4432-9c00-473c7a64f0da",
   "metadata": {},
   "outputs": [],
   "source": [
    "B = 30\n",
    "T = 10\n",
    "input_dim = 3\n",
    "x = torch.randn(B, T, input_dim)\n",
    "\n",
    "n_heads = 5\n",
    "head_embed = 12\n",
    "n_blocks = 3\n",
    "transformer = DecoderTransformer(T, input_dim, n_blocks, n_heads, head_embed, dropout_p = 0.1)\n",
    "\n",
    "output = transformer(x)"
   ]
  },
  {
   "cell_type": "code",
   "execution_count": 63,
   "id": "2e0e6b09-e167-4aa7-8849-125e2803121c",
   "metadata": {},
   "outputs": [
    {
     "data": {
      "text/plain": [
       "torch.Size([30, 3])"
      ]
     },
     "execution_count": 63,
     "metadata": {},
     "output_type": "execute_result"
    }
   ],
   "source": [
    "output.size()"
   ]
  },
  {
   "cell_type": "code",
   "execution_count": 64,
   "id": "316ee3f1-4f18-4712-b546-9da05c8470f5",
   "metadata": {},
   "outputs": [
    {
     "data": {
      "text/plain": [
       "tensor([-0.0872, -0.0219,  0.0000], grad_fn=<SelectBackward0>)"
      ]
     },
     "execution_count": 64,
     "metadata": {},
     "output_type": "execute_result"
    }
   ],
   "source": [
    "output[0]"
   ]
  },
  {
   "cell_type": "code",
   "execution_count": 65,
   "id": "4206cf2f-48b2-4089-a854-8601b28aba0b",
   "metadata": {},
   "outputs": [
    {
     "data": {
      "text/plain": [
       "tensor([[-0.0872, -0.0219,  0.0000],\n",
       "        [ 0.0000,  0.1498, -0.0055],\n",
       "        [-0.0969,  0.0209,  0.1691],\n",
       "        [ 0.0090,  0.0396,  0.1347],\n",
       "        [ 0.0000,  0.1975,  0.0000],\n",
       "        [-0.0358,  0.1874,  0.0247],\n",
       "        [-0.1399,  0.1477,  0.3660],\n",
       "        [-0.1733,  0.0761, -0.0695],\n",
       "        [ 0.0000,  0.0000,  0.0911],\n",
       "        [ 0.1030,  0.0042,  0.0493],\n",
       "        [ 0.0600,  0.0232,  0.1133],\n",
       "        [ 0.1529,  0.0000,  0.0398],\n",
       "        [-0.0022, -0.0204,  0.1763],\n",
       "        [ 0.0077, -0.0000,  0.0000],\n",
       "        [-0.0228,  0.0279,  0.0882],\n",
       "        [-0.1414, -0.0218,  0.2705],\n",
       "        [-0.1848, -0.1446,  0.1293],\n",
       "        [-0.0097,  0.1370,  0.2138],\n",
       "        [ 0.0524, -0.0408,  0.0000],\n",
       "        [-0.1029, -0.0034,  0.0000],\n",
       "        [-0.1501,  0.0475,  0.1693],\n",
       "        [ 0.0376,  0.0168,  0.1765],\n",
       "        [ 0.0251, -0.1684, -0.0251],\n",
       "        [ 0.1444,  0.0000,  0.1557],\n",
       "        [-0.2240,  0.1352,  0.0896],\n",
       "        [-0.0319, -0.1210,  0.1697],\n",
       "        [ 0.0344, -0.0119, -0.0269],\n",
       "        [ 0.0209,  0.0093,  0.0876],\n",
       "        [ 0.1228, -0.0351,  0.0000],\n",
       "        [-0.1298, -0.0000,  0.0630]], grad_fn=<MulBackward0>)"
      ]
     },
     "execution_count": 65,
     "metadata": {},
     "output_type": "execute_result"
    }
   ],
   "source": [
    "output"
   ]
  }
 ],
 "metadata": {
  "kernelspec": {
   "display_name": "audio_deep_embedding",
   "language": "python",
   "name": "audio_deep_embedding"
  },
  "language_info": {
   "codemirror_mode": {
    "name": "ipython",
    "version": 3
   },
   "file_extension": ".py",
   "mimetype": "text/x-python",
   "name": "python",
   "nbconvert_exporter": "python",
   "pygments_lexer": "ipython3",
   "version": "3.9.9"
  }
 },
 "nbformat": 4,
 "nbformat_minor": 5
}
